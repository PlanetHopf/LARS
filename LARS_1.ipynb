{
 "cells": [
  {
   "cell_type": "code",
   "execution_count": 1,
   "id": "c914861a",
   "metadata": {},
   "outputs": [],
   "source": [
    "import requests\n",
    "from bs4 import BeautifulSoup"
   ]
  },
  {
   "cell_type": "code",
   "execution_count": 2,
   "id": "b1639a78",
   "metadata": {},
   "outputs": [],
   "source": [
    "def get_wikipedia_page_content(page_title):\n",
    "    url = \"https://en.wikipedia.org/w/api.php\"\n",
    "    params = {\n",
    "        \"action\": \"parse\",\n",
    "        \"page\": page_title,\n",
    "        \"format\": \"json\",\n",
    "        \"prop\": \"text\",\n",
    "        \"redirects\": 1,  # Ensure that redirects are followed\n",
    "    }\n",
    "\n",
    "    try:\n",
    "        response = requests.get(url, params=params)\n",
    "        response.raise_for_status()\n",
    "        data = response.json()\n",
    "\n",
    "        # Check if the response contains 'parse' key\n",
    "        if 'parse' in data:\n",
    "            html_content = data['parse']['text']['*']\n",
    "            return html_content\n",
    "        else:\n",
    "            print(f\"Page not found or redirect issue for '{page_title}'\")\n",
    "            return None\n",
    "\n",
    "    except requests.exceptions.HTTPError as http_err:\n",
    "        print(f\"HTTP error occurred: {http_err}\")\n",
    "    except requests.exceptions.RequestException as err:\n",
    "        print(f\"Error occurred: {err}\")\n",
    "    except Exception as e:\n",
    "        print(f\"An unexpected error occurred: {e}\")\n",
    "\n",
    "    return None"
   ]
  },
  {
   "cell_type": "code",
   "execution_count": 3,
   "id": "06f858c3",
   "metadata": {},
   "outputs": [],
   "source": [
    "def extract_summary(html_content):\n",
    "    soup = BeautifulSoup(html_content, 'html.parser')\n",
    "    first_paragraph = soup.find('p')\n",
    "    if first_paragraph:\n",
    "        return first_paragraph.get_text()\n",
    "    return \"No summary available.\""
   ]
  },
  {
   "cell_type": "code",
   "execution_count": 4,
   "id": "c10979ee",
   "metadata": {},
   "outputs": [],
   "source": [
    "def extract_references(html_content):\n",
    "    soup = BeautifulSoup(html_content, 'html.parser')\n",
    "    references = []\n",
    "    for ref in soup.find_all(\"span\", class_=\"reference-text\"):\n",
    "        references.append(ref.get_text())\n",
    "    return references"
   ]
  },
  {
   "cell_type": "code",
   "execution_count": 5,
   "id": "0ca8ccfa",
   "metadata": {},
   "outputs": [
    {
     "name": "stdout",
     "output_type": "stream",
     "text": [
      "Search Topic: Graph Theory\n",
      "Summary:\n",
      "In mathematics, graph theory is the study of graphs, which are mathematical structures used to model pairwise relations between objects. A graph in this context is made up of vertices (also called nodes or points) which are connected by edges (also called links or lines). A distinction is made between undirected graphs, where edges link two vertices symmetrically, and directed graphs, where edges link two vertices asymmetrically. Graphs are one of the principal objects of study in discrete mathematics.\n",
      "\n",
      "\n",
      "References:\n",
      "Reference 1: Bender & Williamson 2010, p. 148.\n",
      "Reference 2: See, for instance, Iyanaga and Kawada, 69 J, p. 234 or Biggs, p. 4.\n",
      "Reference 3: Bender & Williamson 2010, p. 149.\n",
      "Reference 4: See, for instance, Graham et al., p. 5.\n",
      "Reference 5: Bender & Williamson 2010, p. 161.\n",
      "Reference 6: Hale, Scott A. (2014). \"Multilinguals and Wikipedia editing\". Proceedings of the 2014 ACM conference on Web science. pp. 99–108. arXiv:1312.0976. Bibcode:2013arXiv1312.0976H. doi:10.1145/2615569.2615684. ISBN 9781450326223. S2CID 14027025.\n",
      "Reference 7: Mashaghi, A.; et al. (2004). \"Investigation of a protein complex network\". European Physical Journal B. 41 (1): 113–121. arXiv:cond-mat/0304207. Bibcode:2004EPJB...41..113M. doi:10.1140/epjb/e2004-00301-0. S2CID 9233932.\n",
      "Reference 8: Shah, Preya; Ashourvan, Arian; Mikhail, Fadi; Pines, Adam; Kini, Lohith; Oechsel, Kelly; Das, Sandhitsu R; Stein, Joel M; Shinohara, Russell T (2019-07-01). \"Characterizing the role of the structural connectome in seizure dynamics\". Brain. 142 (7): 1955–1972. doi:10.1093/brain/awz125. ISSN 0006-8950. PMC 6598625. PMID 31099821.\n",
      "Reference 9: Adali, Tulay; Ortega, Antonio (May 2018). \"Applications of Graph Theory [Scanning the Issue]\". Proceedings of the IEEE. 106 (5): 784–786. doi:10.1109/JPROC.2018.2820300. ISSN 0018-9219.\n",
      "Reference 10: Grandjean, Martin (2016). \"A social network analysis of Twitter: Mapping the digital humanities community\" (PDF). Cogent Arts & Humanities. 3 (1): 1171458. doi:10.1080/23311983.2016.1171458. S2CID 114999767.\n",
      "Reference 11: Vecchio, F (2017). \"\"Small World\" architecture in brain connectivity and hippocampal volume in Alzheimer's disease: a study via graph theory from EEG data\". Brain Imaging and Behavior. 11 (2): 473–485. doi:10.1007/s11682-016-9528-3. PMID 26960946. S2CID 3987492.\n",
      "Reference 12: Vecchio, F (2013). \"Brain network connectivity assessed using graph theory in frontotemporal dementia\". Neurology. 81 (2): 134–143. doi:10.1212/WNL.0b013e31829a33f8. PMID 23719145. S2CID 28334693.\n",
      "Reference 13: Bjorken, J. D.; Drell, S. D. (1965). Relativistic Quantum Fields. New York: McGraw-Hill. p. viii.\n",
      "Reference 14: Kumar, Ankush; Kulkarni, G. U. (2016-01-04). \"Evaluating conducting network based transparent electrodes from geometrical considerations\". Journal of Applied Physics. 119 (1): 015102. Bibcode:2016JAP...119a5102K. doi:10.1063/1.4939280. ISSN 0021-8979.\n",
      "Reference 15: Newman, Mark (2010). Networks: An Introduction (PDF). Oxford University Press. Archived from the original (PDF) on 2020-07-28. Retrieved 2019-10-30.\n",
      "Reference 16: Grandjean, Martin (2015). \"Social network analysis and visualization: Moreno’s Sociograms revisited\". Redesigned network strictly based on Moreno (1934), Who Shall Survive.\n",
      "Reference 17: Rosen, Kenneth H. (2011-06-14). Discrete mathematics and its applications (7th ed.). New York: McGraw-Hill. ISBN 978-0-07-338309-5.\n",
      "Reference 18: Kelly, S.; Black, Michael (2020-07-09). \"graphsim: An R package for simulating gene expression data from graph structures of biological pathways\" (PDF). Journal of Open Source Software. The Open Journal. 5 (51): 2161. Bibcode:2020JOSS....5.2161K. bioRxiv 10.1101/2020.03.02.972471. doi:10.21105/joss.02161. ISSN 2475-9066. S2CID 214722561.\n",
      "Reference 19: Shah, Preya; Ashourvan, Arian; Mikhail, Fadi; Pines, Adam; Kini, Lohith; Oechsel, Kelly; Das, Sandhitsu R; Stein, Joel M; Shinohara, Russell T (2019-07-01). \"Characterizing the role of the structural connectome in seizure dynamics\". Brain. 142 (7): 1955–1972. doi:10.1093/brain/awz125. ISSN 0006-8950. PMC 6598625. PMID 31099821.\n",
      "Reference 20: Biggs, N.; Lloyd, E.; Wilson, R. (1986), Graph Theory, 1736-1936, Oxford University Press\n",
      "Reference 21: Cauchy, A. L. (1813), \"Recherche sur les polyèdres - premier mémoire\", Journal de l'École Polytechnique, 9 (Cahier 16): 66–86.\n",
      "Reference 22: L'Huillier, S.-A.-J. (1812–1813), \"Mémoire sur la polyèdrométrie\", Annales de Mathématiques, 3: 169–189.\n",
      "Reference 23: Cayley, A. (1857), \"On the theory of the analytical forms called trees\", Philosophical Magazine, Series IV, 13 (85): 172–176, doi:10.1017/CBO9780511703690.046, ISBN 9780511703690\n",
      "Reference 24: Cayley, A. (1875), \"Ueber die Analytischen Figuren, welche in der Mathematik Bäume genannt werden und ihre Anwendung auf die Theorie chemischer Verbindungen\", Berichte der Deutschen Chemischen Gesellschaft, 8 (2): 1056–1059, doi:10.1002/cber.18750080252.\n",
      "Reference 25: Sylvester, James Joseph (1878). \"Chemistry and Algebra\". Nature. 17 (432): 284. Bibcode:1878Natur..17..284S. doi:10.1038/017284a0.\n",
      "Reference 26: Tutte, W.T. (2001), Graph Theory, Cambridge University Press, p. 30, ISBN 978-0-521-79489-3, retrieved 2016-03-14\n",
      "Reference 27: Gardner, Martin (1992), Fractal Music, Hypercards, and more…Mathematical Recreations from Scientific American, W. H. Freeman and Company, p. 203\n",
      "Reference 28: Society for Industrial and Applied Mathematics (2002), \"The George Polya Prize\", Looking Back, Looking Ahead: A SIAM History (PDF), p. 26, archived from the original (PDF) on 2016-03-05, retrieved 2016-03-14\n",
      "Reference 29: Heinrich Heesch: Untersuchungen zum Vierfarbenproblem. Mannheim: Bibliographisches Institut 1969.\n",
      "Reference 30: Appel, K.; Haken, W. (1977), \"Every planar map is four colorable. Part I. Discharging\", Illinois J. Math., 21 (3): 429–490, doi:10.1215/ijm/1256049011.\n",
      "Reference 31: Appel, K.; Haken, W. (1977), \"Every planar map is four colorable. Part II. Reducibility\", Illinois J. Math., 21 (3): 491–567, doi:10.1215/ijm/1256049012.\n",
      "Reference 32: Robertson, N.; Sanders, D.; Seymour, P.; Thomas, R. (1997), \"The four color theorem\", Journal of Combinatorial Theory, Series B, 70: 2–44, doi:10.1006/jctb.1997.1750.\n",
      "Reference 33: Kepner, Jeremy; Gilbert, John (2011). Graph Algorithms in the Language of Linear Algebra. SIAM. p. 1171458. ISBN 978-0-898719-90-1.\n"
     ]
    }
   ],
   "source": [
    "# Add a search bar\n",
    "page_title = input(\"Search Topic: \")\n",
    "html_content = get_wikipedia_page_content(page_title)\n",
    "\n",
    "if html_content:\n",
    "    summary = extract_summary(html_content)\n",
    "    references = extract_references(html_content)\n",
    "\n",
    "    print(\"Summary:\")\n",
    "    print(summary)\n",
    "    print(\"\\nReferences:\")\n",
    "    for i, ref in enumerate(references, start=1):\n",
    "        print(f\"Reference {i}: {ref}\")\n",
    "else:\n",
    "    print(\"Failed to get page content.\")"
   ]
  },
  {
   "cell_type": "code",
   "execution_count": null,
   "id": "290bad5e",
   "metadata": {},
   "outputs": [],
   "source": []
  }
 ],
 "metadata": {
  "kernelspec": {
   "display_name": "Python 3 (ipykernel)",
   "language": "python",
   "name": "python3"
  },
  "language_info": {
   "codemirror_mode": {
    "name": "ipython",
    "version": 3
   },
   "file_extension": ".py",
   "mimetype": "text/x-python",
   "name": "python",
   "nbconvert_exporter": "python",
   "pygments_lexer": "ipython3",
   "version": "3.10.9"
  }
 },
 "nbformat": 4,
 "nbformat_minor": 5
}
