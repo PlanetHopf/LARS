{
 "cells": [
  {
   "cell_type": "code",
   "execution_count": null,
   "id": "0",
   "metadata": {},
   "outputs": [],
   "source": [
    "import requests\n",
    "from bs4 import BeautifulSoup"
   ]
  },
  {
   "cell_type": "code",
   "execution_count": null,
   "id": "1",
   "metadata": {},
   "outputs": [],
   "source": [
    "def get_wikipedia_page_content(page_title):\n",
    "    url = \"https://en.wikipedia.org/w/api.php\"\n",
    "    params = {\n",
    "        \"action\": \"parse\",\n",
    "        \"page\": page_title,\n",
    "        \"format\": \"json\",\n",
    "        \"prop\": \"text\",\n",
    "        \"redirects\": 1,  # Ensure that redirects are followed\n",
    "    }\n",
    "\n",
    "    try:\n",
    "        response = requests.get(url, params=params)\n",
    "        response.raise_for_status()\n",
    "        data = response.json()\n",
    "\n",
    "        # Check if the response contains 'parse' key\n",
    "        if 'parse' in data:\n",
    "            html_content = data['parse']['text']['*']\n",
    "            return html_content\n",
    "        else:\n",
    "            print(f\"Page not found or redirect issue for '{page_title}'\")\n",
    "            return None\n",
    "\n",
    "    except requests.exceptions.HTTPError as http_err:\n",
    "        print(f\"HTTP error occurred: {http_err}\")\n",
    "    except requests.exceptions.RequestException as err:\n",
    "        print(f\"Error occurred: {err}\")\n",
    "    except Exception as e:\n",
    "        print(f\"An unexpected error occurred: {e}\")\n",
    "\n",
    "    return None"
   ]
  },
  {
   "cell_type": "code",
   "execution_count": null,
   "id": "2",
   "metadata": {},
   "outputs": [],
   "source": [
    "def extract_summary(html_content):\n",
    "    soup = BeautifulSoup(html_content, 'html.parser')\n",
    "    first_paragraph = soup.find('p')\n",
    "    if first_paragraph:\n",
    "        return first_paragraph.get_text()\n",
    "    return \"No summary available.\""
   ]
  },
  {
   "cell_type": "code",
   "execution_count": null,
   "id": "3",
   "metadata": {},
   "outputs": [],
   "source": [
    "def extract_references(html_content):\n",
    "    soup = BeautifulSoup(html_content, 'html.parser')\n",
    "    references = []\n",
    "    for ref in soup.find_all(\"span\", class_=\"reference-text\"):\n",
    "        references.append(ref.get_text())\n",
    "    return references"
   ]
  },
  {
   "cell_type": "code",
   "execution_count": null,
   "id": "4",
   "metadata": {},
   "outputs": [],
   "source": [
    "# Add a search bar\n",
    "page_title = input(\"Search Topic: \")\n",
    "html_content = get_wikipedia_page_content(page_title)\n",
    "\n",
    "if html_content:\n",
    "    summary = extract_summary(html_content)\n",
    "    references = extract_references(html_content)\n",
    "\n",
    "    print(\"Summary:\")\n",
    "    print(summary)\n",
    "    print(\"\\nReferences:\")\n",
    "    for i, ref in enumerate(references, start=1):\n",
    "        print(f\"Reference {i}: {ref}\")\n",
    "else:\n",
    "    print(\"Failed to get page content.\")"
   ]
  },
  {
   "cell_type": "code",
   "execution_count": null,
   "id": "5",
   "metadata": {},
   "outputs": [],
   "source": [
    "print(\"hello\")"
   ]
  },
  {
   "cell_type": "code",
   "execution_count": null,
   "id": "6",
   "metadata": {},
   "outputs": [],
   "source": []
  }
 ],
 "metadata": {
  "kernelspec": {
   "display_name": "Python 3 (ipykernel)",
   "language": "python",
   "name": "python3"
  },
  "language_info": {
   "codemirror_mode": {
    "name": "ipython",
    "version": 3
   },
   "file_extension": ".py",
   "mimetype": "text/x-python",
   "name": "python",
   "nbconvert_exporter": "python",
   "pygments_lexer": "ipython3",
   "version": "3.11.3"
  }
 },
 "nbformat": 4,
 "nbformat_minor": 5
}
